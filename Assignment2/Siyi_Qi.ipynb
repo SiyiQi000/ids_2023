{
 "cells": [
  {
   "cell_type": "markdown",
   "id": "1574c1f5",
   "metadata": {},
   "source": [
    "# Assignment 2"
   ]
  },
  {
   "cell_type": "code",
   "execution_count": 1,
   "id": "c2c542e1",
   "metadata": {},
   "outputs": [],
   "source": [
    "import pandas as pd\n",
    "import numpy as np\n",
    "import seaborn as sns\n",
    "import matplotlib.pyplot as plt\n",
    "from sklearn.neighbors import KNeighborsClassifier"
   ]
  },
  {
   "cell_type": "code",
   "execution_count": 2,
   "id": "acbc9cad",
   "metadata": {},
   "outputs": [],
   "source": [
    "# import warnings filter\n",
    "from warnings import simplefilter\n",
    "# ignore all future warnings\n",
    "simplefilter(action='ignore', category=FutureWarning)"
   ]
  },
  {
   "cell_type": "markdown",
   "id": "800eae9b",
   "metadata": {},
   "source": [
    "### Exercise 1 Classification with nearest neighbors"
   ]
  },
  {
   "cell_type": "code",
   "execution_count": 3,
   "id": "0984a5f5",
   "metadata": {},
   "outputs": [],
   "source": [
    "import pandas as pd\n",
    "# read in the data\n",
    "dataTrain = pd.read_csv('OccupancyTrain.csv',header=None)\n",
    "dataTest = pd.read_csv('OccupancyTest.csv',header=None)\n",
    "# split input variables and labels\n",
    "XTrain = dataTrain.iloc[:,:-1].values # use all rows and all but the last column\n",
    "YTrain = dataTrain.iloc[:,-1].values # use all rows , only the last column\n",
    "XTest = dataTest.iloc[:,:-1].values\n",
    "YTest = dataTest.iloc[:,-1].values"
   ]
  },
  {
   "cell_type": "code",
   "execution_count": 4,
   "id": "28d5c37e",
   "metadata": {},
   "outputs": [
    {
     "data": {
      "text/plain": [
       "KNeighborsClassifier(n_neighbors=1)"
      ]
     },
     "execution_count": 4,
     "metadata": {},
     "output_type": "execute_result"
    }
   ],
   "source": [
    "knn = KNeighborsClassifier(n_neighbors=1)  # K-Nearest Neighbor Classifier, n=1\n",
    "knn.fit(XTrain, YTrain)  # Classification"
   ]
  },
  {
   "cell_type": "code",
   "execution_count": 5,
   "id": "770e5f79",
   "metadata": {
    "scrolled": false
   },
   "outputs": [
    {
     "name": "stdout",
     "output_type": "stream",
     "text": [
      "accuracy score of prediction on Training data is 1.0\n",
      "accuracy score of prediction on Test data is 0.9775\n"
     ]
    }
   ],
   "source": [
    "from sklearn.metrics import accuracy_score\n",
    "# givenclassifier called knn , compute the accuracy on the testset\n",
    "accTrain = accuracy_score(YTrain,knn.predict(XTrain))\n",
    "accTest = accuracy_score(YTest,knn.predict(XTest))\n",
    "print(\"accuracy score of prediction on Training data is \"+str(accTrain))\n",
    "print(\"accuracy score of prediction on Test data is \"+str(accTest))"
   ]
  },
  {
   "cell_type": "markdown",
   "id": "4f279c40",
   "metadata": {},
   "source": [
    "<font face='Calibri'><font size=3>The result when k=1: </br>100% accuracy of prediction on Training data makes sense because it used Training data to train. And the accuracy of prediction on Test data is very high (97.75%), which means the model is good. If the accuracy of prediction on Test data is low, the model may be overfitting. </font>"
   ]
  },
  {
   "cell_type": "markdown",
   "id": "54fd1cae",
   "metadata": {},
   "source": [
    "### Exercise 2 Hyperparameter selection using cross-validation"
   ]
  },
  {
   "cell_type": "code",
   "execution_count": 6,
   "id": "9538eb75",
   "metadata": {},
   "outputs": [],
   "source": [
    "from sklearn.model_selection import KFold"
   ]
  },
  {
   "cell_type": "code",
   "execution_count": 7,
   "id": "f8604a36",
   "metadata": {},
   "outputs": [],
   "source": [
    "def find_best_k(k_list,XTrain,XTest,YTrain,YTest):\n",
    "    k_loss = []\n",
    "    for k in k_list:\n",
    "        \n",
    "        loss_list = []\n",
    "        cv = KFold (n_splits = 5)\n",
    "        for train, test in cv.split(XTrain):\n",
    "            XTrainCV, XTestCV, YTrainCV, YTestCV = XTrain[train], XTrain[test], YTrain[train], YTrain[test]\n",
    "\n",
    "            knn = KNeighborsClassifier(n_neighbors=k) # K-Nearest Neighbor Classifier, n=1\n",
    "            knn.fit(XTrainCV, YTrainCV)  # Training\n",
    "            # calculate error and loss\n",
    "            error = (YTestCV - knn.predict(XTestCV))**2\n",
    "            loss = sum(error)/len(error) \n",
    "            loss_list.append(loss)\n",
    "         \n",
    "        loss = np.mean(loss_list)\n",
    "        k_loss.append(loss)\n",
    "        print(\"Loss for \"+ str(k) + \" neighbors: \" + str(loss))\n",
    "    ind = k_loss.index(min(k_loss))\n",
    "    best_k = k_list[ind]\n",
    "    print(\"Best k: \" + str(best_k))\n",
    "    return best_k,k_loss"
   ]
  },
  {
   "cell_type": "code",
   "execution_count": 8,
   "id": "303f9092",
   "metadata": {},
   "outputs": [
    {
     "name": "stdout",
     "output_type": "stream",
     "text": [
      "Loss for 1 neighbors: 0.018333333333333333\n",
      "Loss for 3 neighbors: 0.008333333333333333\n",
      "Loss for 5 neighbors: 0.008333333333333333\n",
      "Loss for 7 neighbors: 0.008333333333333333\n",
      "Loss for 9 neighbors: 0.008333333333333333\n",
      "Loss for 11 neighbors: 0.009999999999999998\n",
      "Best k: 3\n"
     ]
    },
    {
     "data": {
      "text/plain": [
       "(3,\n",
       " [0.018333333333333333,\n",
       "  0.008333333333333333,\n",
       "  0.008333333333333333,\n",
       "  0.008333333333333333,\n",
       "  0.008333333333333333,\n",
       "  0.009999999999999998])"
      ]
     },
     "execution_count": 8,
     "metadata": {},
     "output_type": "execute_result"
    }
   ],
   "source": [
    "k_list = [1,3,5,7,9,11]\n",
    "find_best_k(k_list,XTrain=XTrain,XTest=XTest,YTrain=YTrain,YTest=YTest)"
   ]
  },
  {
   "cell_type": "code",
   "execution_count": 9,
   "id": "3d4f4346",
   "metadata": {
    "scrolled": false
   },
   "outputs": [
    {
     "name": "stdout",
     "output_type": "stream",
     "text": [
      "Loss for 1 neighbors: 0.018333333333333333\n",
      "Loss for 3 neighbors: 0.008333333333333333\n",
      "Loss for 5 neighbors: 0.008333333333333333\n",
      "Loss for 7 neighbors: 0.008333333333333333\n",
      "Loss for 9 neighbors: 0.008333333333333333\n",
      "Loss for 11 neighbors: 0.009999999999999998\n",
      "Best k: 3\n"
     ]
    },
    {
     "data": {
      "image/png": "[encoded data removed]",
      "text/plain": [
       "<Figure size 600x400 with 1 Axes>"
      ]
     },
     "metadata": {},
     "output_type": "display_data"
    }
   ],
   "source": [
    "k_loss = find_best_k(k_list,XTrain=XTrain,XTest=XTest,YTrain=YTrain,YTest=YTest)[1]\n",
    "plt.figure(figsize=(6,4),facecolor='w')\n",
    "plt.plot(k_list, k_loss,'o--')\n",
    "plt.xlabel('K')\n",
    "plt.ylabel('Loss')\n",
    "plt.title('A Plot of K and Loss in Cross-validation')\n",
    "\n",
    "plt.xticks(k_list)\n",
    "plt.show()"
   ]
  },
  {
   "cell_type": "markdown",
   "id": "90d103a1",
   "metadata": {},
   "source": [
    "<font face='Calibri'><font size=3>The process: the training data is divided into 5 folds, 4 folds for training and 1 fold for testing (in turns). Then the k=[1,3,5,7,9,11] is put into the fiting model, and get the \"loss\" - the differences between the prediction and the true value. At last, the k is chosen with minimum average \"loss\". </br>The best k is 3. According to the plot, the losses decrease and then increase with the increasing of the k in the range [1,3,5,7,9,11]. When k=3, it meets the minimum at the first time.</font>"
   ]
  },
  {
   "cell_type": "markdown",
   "id": "6a366acd",
   "metadata": {},
   "source": [
    "### Exercise 3 Evaluation of classification performance"
   ]
  },
  {
   "cell_type": "code",
   "execution_count": 10,
   "id": "3f935f57",
   "metadata": {},
   "outputs": [
    {
     "data": {
      "text/plain": [
       "KNeighborsClassifier(n_neighbors=3)"
      ]
     },
     "execution_count": 10,
     "metadata": {},
     "output_type": "execute_result"
    }
   ],
   "source": [
    "knn = KNeighborsClassifier(n_neighbors=3)  # K-Nearest Neighbor Classifier, n=3\n",
    "knn.fit(XTrain, YTrain)  # Classification"
   ]
  },
  {
   "cell_type": "code",
   "execution_count": 11,
   "id": "8887a676",
   "metadata": {},
   "outputs": [
    {
     "name": "stdout",
     "output_type": "stream",
     "text": [
      "accuracy score of prediction on Training data is 0.9933333333333333\n",
      "accuracy score of prediction on Test data is 0.9875\n"
     ]
    }
   ],
   "source": [
    "from sklearn.metrics import accuracy_score\n",
    "# givenclassifier called knn , compute the accuracy on the testset\n",
    "accTrain = accuracy_score(YTrain,knn.predict(XTrain))\n",
    "accTest = accuracy_score(YTest,knn.predict(XTest))\n",
    "print(\"accuracy score of prediction on Training data is \"+str(accTrain))\n",
    "print(\"accuracy score of prediction on Test data is \"+str(accTest))"
   ]
  },
  {
   "cell_type": "markdown",
   "id": "dcc6e77f",
   "metadata": {},
   "source": [
    "<font face='Calibri'><font size=3>The result when k=3:</br>The accuracy of prediction on Training data is 99.33%, while the accuracy of prediction on Test data is 98.75%, which means the model is good. </font>"
   ]
  },
  {
   "cell_type": "markdown",
   "id": "3e7574f9",
   "metadata": {},
   "source": [
    "### Exercise 4 Data normalization"
   ]
  },
  {
   "cell_type": "code",
   "execution_count": 12,
   "id": "87f313ce",
   "metadata": {},
   "outputs": [],
   "source": [
    "from sklearn import preprocessing\n",
    "#version 1\n",
    "scaler = preprocessing.StandardScaler().fit(XTrain)\n",
    "XTrainN =scaler.transform(XTrain)\n",
    "XTestN = scaler.transform(XTest)"
   ]
  },
  {
   "cell_type": "code",
   "execution_count": 13,
   "id": "a66159a0",
   "metadata": {},
   "outputs": [
    {
     "name": "stdout",
     "output_type": "stream",
     "text": [
      "Loss for 1 neighbors: 0.01666666666666667\n",
      "Loss for 3 neighbors: 0.008333333333333333\n",
      "Loss for 5 neighbors: 0.008333333333333333\n",
      "Loss for 7 neighbors: 0.008333333333333333\n",
      "Loss for 9 neighbors: 0.009999999999999998\n",
      "Loss for 11 neighbors: 0.008333333333333333\n",
      "Best k: 3\n"
     ]
    },
    {
     "data": {
      "text/plain": [
       "(3,\n",
       " [0.01666666666666667,\n",
       "  0.008333333333333333,\n",
       "  0.008333333333333333,\n",
       "  0.008333333333333333,\n",
       "  0.009999999999999998,\n",
       "  0.008333333333333333])"
      ]
     },
     "execution_count": 13,
     "metadata": {},
     "output_type": "execute_result"
    }
   ],
   "source": [
    "k_list = [1,3,5,7,9,11]\n",
    "find_best_k(k_list,XTrain=XTrainN,XTest=XTestN,YTrain=YTrain,YTest=YTest)"
   ]
  },
  {
   "cell_type": "code",
   "execution_count": 14,
   "id": "55386d71",
   "metadata": {},
   "outputs": [
    {
     "name": "stdout",
     "output_type": "stream",
     "text": [
      "Loss for 1 neighbors: 0.01666666666666667\n",
      "Loss for 3 neighbors: 0.008333333333333333\n",
      "Loss for 5 neighbors: 0.008333333333333333\n",
      "Loss for 7 neighbors: 0.008333333333333333\n",
      "Loss for 9 neighbors: 0.009999999999999998\n",
      "Loss for 11 neighbors: 0.008333333333333333\n",
      "Best k: 3\n"
     ]
    },
    {
     "data": {
      "image/png": "[encoded data removed]",
      "text/plain": [
       "<Figure size 600x400 with 1 Axes>"
      ]
     },
     "metadata": {},
     "output_type": "display_data"
    }
   ],
   "source": [
    "k_loss = find_best_k(k_list,XTrain=XTrainN,XTest=XTestN,YTrain=YTrain,YTest=YTest)[1]\n",
    "plt.figure(figsize=(6,4),facecolor='w')\n",
    "plt.plot(k_list, k_loss,'o--')\n",
    "plt.xlabel('K')\n",
    "plt.ylabel('Loss')\n",
    "plt.title('A Plot of K and Loss in Cross-validation, after transformation')\n",
    "\n",
    "plt.xticks(k_list)\n",
    "plt.show()"
   ]
  },
  {
   "cell_type": "code",
   "execution_count": 15,
   "id": "ac436752",
   "metadata": {},
   "outputs": [
    {
     "data": {
      "text/plain": [
       "KNeighborsClassifier(n_neighbors=3)"
      ]
     },
     "execution_count": 15,
     "metadata": {},
     "output_type": "execute_result"
    }
   ],
   "source": [
    "knn = KNeighborsClassifier(n_neighbors=3)  # K-Nearest Neighbor Classifier, n=3\n",
    "knn.fit(XTrainN, YTrain)  # Classification"
   ]
  },
  {
   "cell_type": "code",
   "execution_count": 16,
   "id": "a48fabbd",
   "metadata": {},
   "outputs": [
    {
     "name": "stdout",
     "output_type": "stream",
     "text": [
      "accuracy score of Training data is 0.9933333333333333\n",
      "accuracy score of Test data is 0.9875\n"
     ]
    }
   ],
   "source": [
    "from sklearn.metrics import accuracy_score\n",
    "# givenclassifier called knn , compute the accuracy on the testset\n",
    "accTrainN = accuracy_score(YTrain,knn.predict(XTrainN))\n",
    "accTestN = accuracy_score(YTest,knn.predict(XTestN))\n",
    "print(\"accuracy score of Training data is \"+str(accTrainN))\n",
    "print(\"accuracy score of Test data is \"+str(accTestN))"
   ]
  },
  {
   "cell_type": "markdown",
   "id": "e1a53385",
   "metadata": {},
   "source": [
    "<font face='Calibri'><font size=3>The version 1 is correct. Because the information of testing data can not be used until testing.\n",
    "<br/>Version 1: transform both training and testing data with training data. <br/>Version 2: transform training data with training data and transform testing data with testing data. <br/>Version 3: combine the training and the testing data as total data, and transform traning and testing data with total data.<br/> <br/>The best k found in cross-validation is 3, too. The accuracy of prediction on Training data is 99.33%, while the accuracy of prediction on Test data is 98.75%. The new model is the same good as the old one in accuracy. But the decreasing of losses could be observed at k=1 and k=11, which is probably due to the weaker effect of outliers after transformation. In addition, the transformed data has no unit, making it more comparable.</font>"
   ]
  },
  {
   "cell_type": "markdown",
   "id": "ed59107d",
   "metadata": {},
   "source": [
    "<font face='Calibri'><font size=3> </font>"
   ]
  }
 ],
 "metadata": {
  "kernelspec": {
   "display_name": "Python [conda env:IDS-A1]",
   "language": "python",
   "name": "ids-a1"
  },
  "language_info": {
   "codemirror_mode": {
    "name": "ipython",
    "version": 3
   },
   "file_extension": ".py",
   "mimetype": "text/x-python",
   "name": "python",
   "nbconvert_exporter": "python",
   "pygments_lexer": "ipython3",
   "version": "3.10.9"
  }
 },
 "nbformat": 4,
 "nbformat_minor": 5
}
