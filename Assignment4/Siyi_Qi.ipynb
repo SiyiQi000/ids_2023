{
 "cells": [
  {
   "cell_type": "markdown",
   "id": "fa47aed2",
   "metadata": {},
   "source": [
    "# Assignment 4"
   ]
  },
  {
   "cell_type": "code",
   "execution_count": null,
   "id": "2c775663",
   "metadata": {},
   "outputs": [],
   "source": [
    "import pandas as pd\n",
    "import numpy as np\n",
    "import seaborn as sns\n",
    "import matplotlib.pyplot as plt\n",
    "from sklearn.neighbors import KNeighborsClassifier\n",
    "from sklearn.cluster import KMeans\n",
    "from sklearn.decomposition import PCA"
   ]
  },
  {
   "cell_type": "markdown",
   "id": "959d5b3f",
   "metadata": {},
   "source": [
    "### Exercise 1 (Performing PCA)"
   ]
  },
  {
   "cell_type": "code",
   "execution_count": null,
   "id": "05bbb6e0",
   "metadata": {},
   "outputs": [],
   "source": [
    "#calculate the eigenvalue and eigenvector\n",
    "def pca(data):\n",
    "    cov_matrix = np.cov(data.T) # the definition of covariance matrix\n",
    "    evals, evecs = np.linalg.eigh(cov_matrix)\n",
    "    evals = evals[::-1]\n",
    "    evecs = evecs[:,::-1]\n",
    "    return evals, evecs\n",
    "\n",
    "# def standardize(data):\n",
    "#     data = center(data)\n",
    "#     data = normalize(data)\n",
    "#     return data\n",
    "\n",
    "# def center(data):\n",
    "#     mean = np.mean(data, axis = 0)\n",
    "#     data = data - mean\n",
    "#     return data\n",
    "\n",
    "# def normalize(data):\n",
    "#     sd = np.std(data, axis = 0)\n",
    "#     data = data/sd\n",
    "#     return data"
   ]
  },
  {
   "cell_type": "code",
   "execution_count": null,
   "id": "72a3f351",
   "metadata": {
    "scrolled": true
   },
   "outputs": [],
   "source": [
    "OccupancyTrain = np.loadtxt('OccupancyTrain.csv', delimiter = ',')\n",
    "data_occ = OccupancyTrain[:,:-1] #except lables\n",
    "#data_occ  = standardize(data_occ)\n",
    "eigenvalues,eigenvectors = pca(data_occ)\n",
    "# variance = eigenvalues/sum(eigenvalues) #calculate the proportion\n",
    "variance = eigenvalues\n",
    "count = list(range(1, len(variance)+1))\n",
    "\n",
    "fig = plt.figure(figsize=(8,4))\n",
    "plt.plot(count, variance)\n",
    "plt.title('Variance versus Principcal Component Index of Occupancy data')\n",
    "plt.xlabel('Index of Principcal Component')\n",
    "plt.ylabel('Variance')\n",
    "plt.xticks(count)\n",
    "\n",
    "plt.savefig(\"ex1_f1.png\", dpi = 200)"
   ]
  },
  {
   "cell_type": "code",
   "execution_count": null,
   "id": "d8153342",
   "metadata": {},
   "outputs": [],
   "source": [
    "IDSWeedCropTrain = np.loadtxt('IDSWeedCropTrain.csv', delimiter = ',')\n",
    "data_pes = IDSWeedCropTrain[:,:-1] #except lables\n",
    "#data_pes  = standardize(data_pes)\n",
    "eigenvalues,eigenvectors = pca(data_pes)\n",
    "# variance = eigenvalues/sum(eigenvalues) #the proportion of variance\n",
    "variance = eigenvalues\n",
    "\n",
    "count = list(range(1, len(variance)+1))\n",
    "cum_variance = np.cumsum(eigenvalues/sum(eigenvalues))\n",
    "\n",
    "fig = plt.figure(figsize=(12,10))\n",
    "ax1 = fig.add_subplot(2,2,1,title='Variance versus PC Index of Pesticide data',\\\n",
    "                      xlabel='Index of Principcal Component',ylabel='Variance')\n",
    "ax1 = plt.plot(count, variance)\n",
    "ax1 = plt.xticks(count)\n",
    "ax2 = fig.add_subplot(2,2,2,title='Cumulative Variance versus PC Index of Pesticide data',\\\n",
    "                      xlabel='Index of Principcal Component',ylabel='Proportion of Cumulative Variance')\n",
    "ax2 = plt.plot(count, cum_variance)\n",
    "ax2 = plt.xticks(count)\n",
    "fig.subplots_adjust(wspace=1)\n",
    "fig.tight_layout(pad=5)\n",
    "\n",
    "plt.savefig(\"ex1_f2.png\", dpi = 200)"
   ]
  },
  {
   "cell_type": "code",
   "execution_count": null,
   "id": "2f72e579",
   "metadata": {},
   "outputs": [],
   "source": [
    "def needed_PCs_90(cum_variance):\n",
    "    j = 0\n",
    "    for i in cum_variance:\n",
    "        j = j + 1\n",
    "        if i > 0.90:\n",
    "            return(\"the needed number of PCs to capture 90% of the variance is \"+str(j))\n",
    "            break\n",
    "        else:\n",
    "            continue\n",
    "\n",
    "def needed_PCs_95(cum_variance):\n",
    "    j = 0\n",
    "    for i in cum_variance:\n",
    "        j = j + 1\n",
    "        if i > 0.95:\n",
    "            return(\"the needed number of PCs to capture 95% of the variance is \"+str(j))\n",
    "            break\n",
    "        else:\n",
    "            continue\n",
    "\n",
    "print(needed_PCs_90(cum_variance))\n",
    "print(needed_PCs_95(cum_variance))  "
   ]
  },
  {
   "cell_type": "markdown",
   "id": "31ff25cf",
   "metadata": {},
   "source": [
    "### Exercise 2 (Visualization in 2D)"
   ]
  },
  {
   "cell_type": "code",
   "execution_count": null,
   "id": "f7bc21a1",
   "metadata": {},
   "outputs": [],
   "source": [
    "# def pca_trans(data,n):\n",
    "#     cov_matrix = np.cov(data.T) # the definition of covariance matrix\n",
    "#     evals, evecs = np.linalg.eigh(cov_matrix)\n",
    "#     evals = evals[::-1]\n",
    "#     evecs = evecs[:,::-1]\n",
    "#     evecs = evecs[:,:n]\n",
    "#     data_tran = evecs.T @ data.T\n",
    "#     data_tran = data_tran.T\n",
    "#     return data_tran\n",
    "\n",
    "def pca_trans(data,n):\n",
    "    modelPCA2 = PCA(n_components=n)\n",
    "    Xtrans = modelPCA2.fit_transform(data)\n",
    "    return Xtrans"
   ]
  },
  {
   "cell_type": "code",
   "execution_count": null,
   "id": "072800b6",
   "metadata": {},
   "outputs": [],
   "source": [
    "tran_occ = pca_trans(data_occ,2)\n",
    "plt.scatter(tran_occ[:,0],tran_occ[:,1],color='blue',s=3)\n",
    "plt.title('Principal Component Analysis of Occupancy data')\n",
    "plt.xlabel('Principcal Component 1')\n",
    "plt.ylabel('Principcal Component 2')\n",
    "plt.savefig(\"ex2_f1.png\", dpi = 200)"
   ]
  },
  {
   "cell_type": "code",
   "execution_count": null,
   "id": "2658461c",
   "metadata": {},
   "outputs": [],
   "source": [
    "tran_pes = pca_trans(data_pes,2)\n",
    "plt.scatter(tran_pes[:,0],tran_pes[:,1],color='blue',s=3)\n",
    "plt.title('Principal Component Analysis of Pesticide data')\n",
    "plt.xlabel('Principcal Component 1')\n",
    "plt.ylabel('Principcal Component 2')\n",
    "plt.savefig(\"ex2_f2.png\", dpi = 200)"
   ]
  },
  {
   "cell_type": "markdown",
   "id": "fbee5c2c",
   "metadata": {},
   "source": [
    "### Exercise 4 (Clustering II)"
   ]
  },
  {
   "cell_type": "code",
   "execution_count": null,
   "id": "0e053c16",
   "metadata": {},
   "outputs": [],
   "source": [
    "cc = pd.DataFrame()\n",
    "cc1 = pd.DataFrame([5.69, 49.38, 791.59, 3847.71, 3385.89, 1359.89, 293.73, 131.61, 70.73, 39.64, 19.44, 4.24, 0.44]).T\n",
    "cc2 = pd.DataFrame([2.19, 13.73, 170.94, 1394.36, 3188.53, 2624.62, 1003.72, 632.81, 495.83, 295.4, 145.8, 29.2, 2.84]).T\n",
    "cc = pd.concat([cc1,cc2],axis=0)\n",
    "tran_cc = pca_trans(cc,2)\n",
    "tran_cc"
   ]
  },
  {
   "cell_type": "code",
   "execution_count": null,
   "id": "b605bc6f",
   "metadata": {},
   "outputs": [],
   "source": [
    "tran_pes = pd.DataFrame(tran_pes)\n",
    "df = pd.DataFrame()\n",
    "df[\"PC1\"] = tran_pes[0]\n",
    "df[\"PC2\"] = tran_pes[1]\n",
    "df[\"label\"] = pd.DataFrame(IDSWeedCropTrain[:, -1])\n",
    "\n",
    "type0 = df[df['label'].isin([0])]\n",
    "type1 = df[df['label'].isin([1])]\n",
    "\n",
    "df_type0 = pd.DataFrame()\n",
    "df_type0[\"PC1\"] = type0[\"PC1\"]\n",
    "df_type0[\"PC2\"] = type0[\"PC2\"]\n",
    "df_type0[\"label\"]= type0[\"label\"]\n",
    "\n",
    "df_type1 = pd.DataFrame()\n",
    "df_type1[\"PC1\"] = type1[\"PC1\"]\n",
    "df_type1[\"PC2\"] = type1[\"PC2\"]\n",
    "df_type1[\"label\"]= type1[\"label\"]"
   ]
  },
  {
   "cell_type": "code",
   "execution_count": null,
   "id": "2a3e4813",
   "metadata": {},
   "outputs": [],
   "source": [
    "fig = plt.figure(figsize=(7,4))\n",
    "plt.scatter(data=type0,x='PC1',y='PC2',color='mediumturquoise',s=3,label='weed')\n",
    "plt.scatter(data=type1,x='PC1',y='PC2',color='crimson',s=3,label='crop')\n",
    "plt.scatter(x=1505.15, y=0,s=25,marker='x',c='black',label='Centroid 1')\n",
    "plt.scatter(x=-1505.15, y=0,s=15,marker='D',c='black',label='Centroid 2')\n",
    "plt.legend(loc='lower right')\n",
    "\n",
    "plt.title('Principal Component Analysis of Pesticide data')\n",
    "plt.xlabel('Principcal Component 1')\n",
    "plt.ylabel('Principcal Component 2')\n",
    "plt.savefig(\"ex4_f1.png\", dpi = 200)"
   ]
  },
  {
   "cell_type": "markdown",
   "id": "4a86198c",
   "metadata": {},
   "source": [
    "### Exercise 5 (Clustering III)"
   ]
  },
  {
   "cell_type": "code",
   "execution_count": null,
   "id": "f31926a4",
   "metadata": {},
   "outputs": [],
   "source": [
    "# # it could work on Colab\n",
    "# startingPoint = np.vstack((data_occ[0,], data_occ[1,]))\n",
    "# kmeans_occ = KMeans(2, n_init = 1, init= startingPoint, algorithm = \"full\").fit(data_occ) #set k=2\n",
    "# print(kmeans_occ.cluster_centers_)"
   ]
  },
  {
   "cell_type": "markdown",
   "id": "653dcd72",
   "metadata": {},
   "source": [
    "Centroid 1: [2.03243556e+01 2.46537811e+01 5.75966874e+01 4.74787474e+02 3.62013593e-03]\n",
    "\n",
    "Centroid 2: [2.18266607e+01 2.73984652e+01 4.58024161e+02 1.08964275e+03 4.43437128e-03]"
   ]
  },
  {
   "cell_type": "code",
   "execution_count": null,
   "id": "bd533f5a",
   "metadata": {},
   "outputs": [],
   "source": [
    "cc_occ = pd.DataFrame()\n",
    "cc1_occ = pd.DataFrame([20.32, 24.65, 57.6, 474.79, 0.0036]).T\n",
    "cc2_occ = pd.DataFrame([21.83, 27.4, 458.02, 1089.64, 0.0044]).T\n",
    "cc_occ = pd.concat([cc1_occ,cc2_occ],axis=0)\n",
    "tran_cc_occ = pca_trans(cc_occ,2)\n",
    "print(tran_cc_occ)"
   ]
  },
  {
   "cell_type": "code",
   "execution_count": null,
   "id": "98465578",
   "metadata": {},
   "outputs": [],
   "source": [
    "tran_occ = pd.DataFrame(tran_occ)\n",
    "df = pd.DataFrame()\n",
    "df[\"PC1\"] = tran_occ[0]\n",
    "df[\"PC2\"] = tran_occ[1]\n",
    "df[\"label\"] = pd.DataFrame(OccupancyTrain[:, -1])\n",
    "\n",
    "type0 = df[df['label'].isin([0])]\n",
    "type1 = df[df['label'].isin([1])]\n",
    "\n",
    "df_type0 = pd.DataFrame()\n",
    "df_type0[\"PC1\"] = type0[\"PC1\"]\n",
    "df_type0[\"PC2\"] = type0[\"PC2\"]\n",
    "df_type0[\"label\"]= type0[\"label\"]\n",
    "\n",
    "df_type1 = pd.DataFrame()\n",
    "df_type1[\"PC1\"] = type1[\"PC1\"]\n",
    "df_type1[\"PC2\"] = type1[\"PC2\"]\n",
    "df_type1[\"label\"]= type1[\"label\"]"
   ]
  },
  {
   "cell_type": "code",
   "execution_count": null,
   "id": "7aa319b7",
   "metadata": {},
   "outputs": [],
   "source": [
    "fig = plt.figure(figsize=(7,4))\n",
    "plt.scatter(data=type0,x='PC1',y='PC2',color='mediumturquoise',s=3,label='not occupied')\n",
    "plt.scatter(data=type1,x='PC1',y='PC2',color='crimson',s=3,label='occupied')\n",
    "plt.scatter(x=366.87, y=0,s=25,marker='x',c='black',label='Centroid 1')\n",
    "plt.scatter(x=-366.87, y=0,s=15,marker='D',c='black',label='Centroid 2')\n",
    "plt.legend(loc='lower right')\n",
    "\n",
    "plt.title('Principal Component Analysis of Occupancy data')\n",
    "plt.xlabel('Principcal Component 1')\n",
    "plt.ylabel('Principcal Component 2')\n",
    "plt.savefig(\"ex5_f1.png\", dpi = 200)"
   ]
  },
  {
   "cell_type": "markdown",
   "id": "97cfb47f",
   "metadata": {},
   "source": [
    "### Exercise 6 (Linear Regression)"
   ]
  },
  {
   "cell_type": "code",
   "execution_count": null,
   "id": "21c0d878",
   "metadata": {},
   "outputs": [],
   "source": [
    "def multivarlinreg(X, t):\n",
    "    row = len(X)\n",
    "    col_1 = np.ones(row)\n",
    "    X = np.c_[col_1, X] # add a column of ones at the first column    \n",
    "    w = np.linalg.inv(X.T @ X) @ X.T @ t\n",
    "    return w"
   ]
  },
  {
   "cell_type": "code",
   "execution_count": null,
   "id": "84a83ef3",
   "metadata": {},
   "outputs": [],
   "source": [
    "OccupancyTrain = np.loadtxt('OccupancyTrain.csv', delimiter = ',')\n",
    "\n",
    "X_Train = OccupancyTrain[:, :-1]\n",
    "# X_Train = standardize(data=X_Train) #use Train data to standardize\n",
    "X_Train_col5 = X_Train[:,-1] #only the humidity feature\n",
    "Y_Train = OccupancyTrain[:, -1:] #the label\n",
    "\n",
    "weights_f5 = multivarlinreg(X=X_Train_col5, t=Y_Train) #only use the humidity feature to perform regression\n",
    "print(weights_f5)\n",
    "print()\n",
    "\n",
    "weights_all = multivarlinreg(X=X_Train, t=Y_Train) #only all feature to perform regression\n",
    "print(weights_all)"
   ]
  },
  {
   "cell_type": "markdown",
   "id": "390a71ce",
   "metadata": {},
   "source": [
    "### Exercise 7 (Evaluating Linear Regression)"
   ]
  },
  {
   "cell_type": "code",
   "execution_count": null,
   "id": "f9b8c83e",
   "metadata": {},
   "outputs": [],
   "source": [
    "def rmse(prediciton, true):\n",
    "    error = (true - prediction)**2\n",
    "    rmse = np.sqrt(np.mean(error))\n",
    "    return rmse\n",
    "\n",
    "def test(weights, test_x, test_y):\n",
    "    row = len(test_x)\n",
    "    col_1 = np.ones(row)\n",
    "    X = np.c_[col_1, test_x] # add a column of ones at the first column    \n",
    "    prediction = X @ weights\n",
    "    error = (test_y - prediction)**2\n",
    "    rmse = np.sqrt(np.mean(error))\n",
    "    return rmse"
   ]
  },
  {
   "cell_type": "code",
   "execution_count": null,
   "id": "b2302f2a",
   "metadata": {
    "scrolled": false
   },
   "outputs": [],
   "source": [
    "OccupancyTest = np.loadtxt('OccupancyTest.csv', delimiter = ',')\n",
    "\n",
    "X_Test = OccupancyTest[:, :-1]\n",
    "# X_Test = standardize(data=X_Test)  #use Train data to standardize\n",
    "X_Test_col5 = X_Test[:,-1]\n",
    "Y_Test = OccupancyTest[:, -1:]\n",
    "\n",
    "weights_f5_test = multivarlinreg(X=X_Train_col5, t=Y_Train) #only use the humidity feature to perform regression\n",
    "weights_all_test = multivarlinreg(X=X_Train, t=Y_Train) #only all feature to perform regression\n",
    "\n",
    "rmse_five = test(weights_f5_test, X_Test_col5, Y_Test)\n",
    "rmse_all = test(weights_all_test, X_Test, Y_Test)\n",
    "print(rmse_five)\n",
    "print(rmse_all)"
   ]
  },
  {
   "cell_type": "code",
   "execution_count": null,
   "id": "6cea719f",
   "metadata": {},
   "outputs": [],
   "source": []
  }
 ],
 "metadata": {
  "kernelspec": {
   "display_name": "IDS-A1",
   "language": "python",
   "name": "ids-a1"
  },
  "language_info": {
   "codemirror_mode": {
    "name": "ipython",
    "version": 3
   },
   "file_extension": ".py",
   "mimetype": "text/x-python",
   "name": "python",
   "nbconvert_exporter": "python",
   "pygments_lexer": "ipython3",
   "version": "3.9.7"
  }
 },
 "nbformat": 4,
 "nbformat_minor": 5
}
